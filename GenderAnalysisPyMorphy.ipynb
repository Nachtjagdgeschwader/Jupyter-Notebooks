{
 "cells": [
  {
   "cell_type": "markdown",
   "metadata": {
    "collapsed": true,
    "pycharm": {
     "name": "#%% md\n"
    }
   },
   "source": [
    "#### Using pymorphy2 to check proportion on male & female names in Ukrainian text"
   ]
  },
  {
   "cell_type": "code",
   "execution_count": 12,
   "metadata": {
    "pycharm": {
     "is_executing": false,
     "name": "#%%\n"
    }
   },
   "outputs": [],
   "source": [
    "import pymorphy2\n",
    "import pymorphy2_dicts_uk\n",
    "# Beware that PyPi version of pymorphy2 \n",
    "# does not support Ukrainian dictionary. Therefore you have to\n",
    "# install from git:\n",
    "# pip install -U https://github.com/kmike/pymorphy2/archive/master.zip#egg=pymorphy2\n",
    "# pip install -U pymorphy2-dicts-uk"
   ]
  },
  {
   "cell_type": "markdown",
   "metadata": {
    "pycharm": {
     "is_executing": false,
     "name": "#%% md\n"
    }
   },
   "source": [
    "Let's check the correctness of gender detection."
   ]
  },
  {
   "cell_type": "code",
   "execution_count": 13,
   "metadata": {
    "pycharm": {
     "is_executing": false,
     "name": "#%%\n"
    }
   },
   "outputs": [
    {
     "data": {
      "text/plain": "'femn'"
     },
     "metadata": {},
     "output_type": "execute_result",
     "execution_count": 13
    }
   ],
   "source": [
    "morph = pymorphy2.MorphAnalyzer(lang='uk')\n",
    "p=morph.parse('Людмила')[0]\n",
    "p.tag.gender"
   ]
  },
  {
   "cell_type": "markdown",
   "metadata": {},
   "source": [
    "Sometimes it's correct."
   ]
  },
  {
   "cell_type": "code",
   "execution_count": 14,
   "metadata": {
    "pycharm": {
     "is_executing": false,
     "name": "#%%\n"
    }
   },
   "outputs": [
    {
     "data": {
      "text/plain": "'masc'"
     },
     "metadata": {},
     "output_type": "execute_result",
     "execution_count": 14
    }
   ],
   "source": [
    "p=morph.parse('Олег')[0]\n",
    "p.tag.gender"
   ]
  },
  {
   "cell_type": "code",
   "execution_count": 15,
   "metadata": {
    "pycharm": {
     "is_executing": false,
     "name": "#%%\n"
    }
   },
   "outputs": [
    {
     "data": {
      "text/plain": "'masc'"
     },
     "metadata": {},
     "output_type": "execute_result",
     "execution_count": 15
    }
   ],
   "source": [
    "p=morph.parse('Євгенія')[0]\n",
    "p.tag.gender"
   ]
  },
  {
   "cell_type": "markdown",
   "metadata": {},
   "source": [
    "But sometimes it's not. So after autodetection you can check it manually."
   ]
  },
  {
   "cell_type": "code",
   "execution_count": 16,
   "metadata": {
    "pycharm": {
     "is_executing": false,
     "name": "#%%\n"
    }
   },
   "outputs": [],
   "source": [
    "from requests import get\n",
    "from bs4 import BeautifulSoup"
   ]
  },
  {
   "cell_type": "markdown",
   "metadata": {},
   "source": [
    "Let's collect the list of current Ukrainian Parliament MPs full names."
   ]
  },
  {
   "cell_type": "code",
   "execution_count": 17,
   "metadata": {
    "pycharm": {
     "is_executing": false,
     "name": "#%%\n"
    }
   },
   "outputs": [
    {
     "data": {
      "text/plain": "['Абдуллін Олександр Рафкатович',\n 'Абрамович Ігор Олександрович',\n 'Алєксєєв Сергій Олегович',\n 'Аліксійчук Олександр Васильович',\n 'Аллахвердієва Ірина Валеріївна',\n 'Ананченко Михайло Олегович',\n 'Андрійович Зіновій Мирославович',\n 'Арахамія Давид Георгійович',\n 'Арешонков Володимир Юрійович',\n \"Ар'єв Володимир Ігорович\"]"
     },
     "metadata": {},
     "output_type": "execute_result",
     "execution_count": 17
    }
   ],
   "source": [
    "r=get(\"http://w1.c1.rada.gov.ua/pls/site2/fetch_mps?skl_id=10\")\n",
    "soup=BeautifulSoup(r.text, \"html.parser\")\n",
    "fullnames=[i.text.strip() for i in soup.select(\"p.title\")]\n",
    "fullnames[:10]"
   ]
  },
  {
   "cell_type": "markdown",
   "metadata": {},
   "source": [
    "Now autodetect each name gender."
   ]
  },
  {
   "cell_type": "code",
   "execution_count": 18,
   "metadata": {
    "pycharm": {
     "is_executing": false,
     "name": "#%%\n"
    }
   },
   "outputs": [
    {
     "data": {
      "text/plain": "[('Абдуллін Олександр Рафкатович', 'masc'),\n ('Абрамович Ігор Олександрович', 'masc'),\n ('Алєксєєв Сергій Олегович', 'femn'),\n ('Аліксійчук Олександр Васильович', 'masc'),\n ('Аллахвердієва Ірина Валеріївна', 'femn'),\n ('Ананченко Михайло Олегович', 'femn'),\n ('Андрійович Зіновій Мирославович', 'masc'),\n ('Арахамія Давид Георгійович', 'masc'),\n ('Арешонков Володимир Юрійович', 'masc'),\n (\"Ар'єв Володимир Ігорович\", 'masc')]"
     },
     "metadata": {},
     "output_type": "execute_result",
     "execution_count": 18
    }
   ],
   "source": [
    "genders=[morph.parse(i)[0].tag.gender for i in fullnames]\n",
    "names_genders=list(zip(fullnames,genders))\n",
    "names_genders[:10]"
   ]
  },
  {
   "cell_type": "markdown",
   "metadata": {},
   "source": [
    "Now we can see the percentage of male and female MPs."
   ]
  },
  {
   "cell_type": "code",
   "execution_count": 19,
   "metadata": {
    "pycharm": {
     "is_executing": false,
     "name": "#%%\n"
    }
   },
   "outputs": [
    {
     "name": "stdout",
     "text": [
      "Total MPs: 423\nFemale MPs: 96 (22.69503546099291 %)\nMale MPs: 327 (77.30496453900709 %)\n"
     ],
     "output_type": "stream"
    }
   ],
   "source": [
    "print(f\"Total MPs: {len(genders)}\")\n",
    "print(f\"Female MPs: {genders.count('femn')} ({(genders.count('femn')/len(genders))*100} %)\")\n",
    "print(f\"Male MPs: {genders.count('masc')} ({(genders.count('masc')/len(genders))*100} %)\")\n"
   ]
  }
 ],
 "metadata": {
  "kernelspec": {
   "display_name": "Python 3",
   "language": "python",
   "name": "python3"
  },
  "language_info": {
   "codemirror_mode": {
    "name": "ipython",
    "version": 3
   },
   "file_extension": ".py",
   "mimetype": "text/x-python",
   "name": "python",
   "nbconvert_exporter": "python",
   "pygments_lexer": "ipython3",
   "version": "3.6.1rc1"
  },
  "pycharm": {
   "stem_cell": {
    "cell_type": "raw",
    "source": [],
    "metadata": {
     "collapsed": false
    }
   }
  }
 },
 "nbformat": 4,
 "nbformat_minor": 1
}