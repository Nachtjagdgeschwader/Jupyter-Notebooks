{
 "cells": [
  {
   "cell_type": "markdown",
   "metadata": {
    "collapsed": true,
    "pycharm": {
     "name": "#%% md\n"
    }
   },
   "source": [
    "#### Using gender_guesser and transliteration to check proportion on male & female names in Ukrainian text"
   ]
  },
  {
   "cell_type": "code",
   "execution_count": 1,
   "outputs": [],
   "source": [
    "import gender_guesser.detector as gender"
   ],
   "metadata": {
    "collapsed": false,
    "pycharm": {
     "name": "#%%\n",
     "is_executing": false
    }
   }
  },
  {
   "cell_type": "markdown",
   "source": [
    "Let's check the correctness of gender detection."
   ],
   "metadata": {
    "collapsed": false,
    "pycharm": {
     "name": "#%% md\n",
     "is_executing": false
    }
   }
  },
  {
   "cell_type": "code",
   "execution_count": 2,
   "outputs": [
    {
     "data": {
      "text/plain": "'female'"
     },
     "metadata": {},
     "output_type": "execute_result",
     "execution_count": 2
    }
   ],
   "source": [
    "d = gender.Detector()\n",
    "d.get_gender(\"Eugeniya\")"
   ],
   "metadata": {
    "collapsed": false,
    "pycharm": {
     "name": "#%%\n",
     "is_executing": false
    }
   }
  },
  {
   "cell_type": "markdown",
   "source": [
    "Sometimes it's correct."
   ],
   "metadata": {
    "collapsed": false
   }
  },
  {
   "cell_type": "code",
   "execution_count": 3,
   "outputs": [
    {
     "data": {
      "text/plain": "'male'"
     },
     "metadata": {},
     "output_type": "execute_result",
     "execution_count": 3
    }
   ],
   "source": [
    "d.get_gender(\"Oleh\")"
   ],
   "metadata": {
    "collapsed": false,
    "pycharm": {
     "name": "#%%\n",
     "is_executing": false
    }
   }
  },
  {
   "cell_type": "code",
   "execution_count": 4,
   "outputs": [
    {
     "data": {
      "text/plain": "'unknown'"
     },
     "metadata": {},
     "output_type": "execute_result",
     "execution_count": 4
    }
   ],
   "source": [
    "d.get_gender(\"Luydmila\")"
   ],
   "metadata": {
    "collapsed": false,
    "pycharm": {
     "name": "#%%\n",
     "is_executing": false
    }
   }
  },
  {
   "cell_type": "markdown",
   "source": [
    "But sometimes it's not. So after autodetection you can check it manually."
   ],
   "metadata": {
    "collapsed": false
   }
  },
  {
   "cell_type": "code",
   "execution_count": 5,
   "outputs": [],
   "source": [
    "from requests import get\n",
    "from bs4 import BeautifulSoup"
   ],
   "metadata": {
    "collapsed": false,
    "pycharm": {
     "name": "#%%\n",
     "is_executing": false
    }
   }
  },
  {
   "cell_type": "markdown",
   "source": [
    "Let's collect the list of current Ukrainian Parliament MPs full names."
   ],
   "metadata": {
    "collapsed": false
   }
  },
  {
   "cell_type": "code",
   "execution_count": 6,
   "outputs": [
    {
     "data": {
      "text/plain": "['\\nАбдуллін Олександр Рафкатович\\n',\n '\\nАбрамович Ігор Олександрович\\n',\n '\\nАлєксєєв Сергій Олегович\\n',\n '\\nАліксійчук Олександр Васильович\\n',\n '\\nАллахвердієва Ірина Валеріївна\\n',\n '\\nАнанченко Михайло Олегович\\n',\n '\\nАндрійович Зіновій Мирославович\\n',\n '\\nАрахамія Давид Георгійович\\n',\n '\\nАрешонков Володимир Юрійович\\n',\n \"\\nАр'єв Володимир Ігорович\\n\"]"
     },
     "metadata": {},
     "output_type": "execute_result",
     "execution_count": 6
    }
   ],
   "source": [
    "r=get(\"http://w1.c1.rada.gov.ua/pls/site2/fetch_mps?skl_id=10\")\n",
    "soup=BeautifulSoup(r.text, \"html.parser\")\n",
    "fullnames=[i.text for i in soup.select(\"p.title\")]\n",
    "fullnames[:10]"
   ],
   "metadata": {
    "collapsed": false,
    "pycharm": {
     "name": "#%%\n",
     "is_executing": false
    }
   }
  },
  {
   "cell_type": "markdown",
   "source": [
    "Now we'll extract a first name part from each full name."
   ],
   "metadata": {
    "collapsed": false
   }
  },
  {
   "cell_type": "code",
   "execution_count": 7,
   "outputs": [
    {
     "data": {
      "text/plain": "['Олександр',\n 'Ігор',\n 'Сергій',\n 'Олександр',\n 'Ірина',\n 'Михайло',\n 'Зіновій',\n 'Давид',\n 'Володимир',\n 'Володимир']"
     },
     "metadata": {},
     "output_type": "execute_result",
     "execution_count": 7
    }
   ],
   "source": [
    "names=[i.split(\" \")[1] for i in fullnames]\n",
    "names[:10]"
   ],
   "metadata": {
    "collapsed": false,
    "pycharm": {
     "name": "#%%\n",
     "is_executing": false
    }
   }
  },
  {
   "cell_type": "code",
   "execution_count": 8,
   "outputs": [],
   "source": [
    "from transliterate import translit"
   ],
   "metadata": {
    "collapsed": false,
    "pycharm": {
     "name": "#%%\n",
     "is_executing": false
    }
   }
  },
  {
   "cell_type": "markdown",
   "source": [
    "Transliterate each name to latin, as gender_guesser library does not work with Cyrillic."
   ],
   "metadata": {
    "collapsed": false
   }
  },
  {
   "cell_type": "code",
   "execution_count": 9,
   "outputs": [
    {
     "data": {
      "text/plain": "['Oleksandr',\n 'Ihor',\n 'Serhij',\n 'Oleksandr',\n 'Iryna',\n 'Mykhajlo',\n 'Zinovij',\n 'Davyd',\n 'Volodymyr',\n 'Volodymyr']"
     },
     "metadata": {},
     "output_type": "execute_result",
     "execution_count": 9
    }
   ],
   "source": [
    "engnames=[translit(i, \"uk\", reversed=True) for i in names]\n",
    "engnames[:10]"
   ],
   "metadata": {
    "collapsed": false,
    "pycharm": {
     "name": "#%%\n",
     "is_executing": false
    }
   }
  },
  {
   "cell_type": "markdown",
   "source": [
    "Now autodetect each name gender and see which names remained undetected."
   ],
   "metadata": {
    "collapsed": false
   }
  },
  {
   "cell_type": "code",
   "execution_count": 10,
   "outputs": [
    {
     "data": {
      "text/plain": "['Зіновій',\n \"Мар'яна\",\n 'Соломія',\n 'Єлізавета',\n 'Костянтин',\n 'Євгеній',\n 'Людмила',\n 'Ольга',\n 'Галина',\n \"Дар'я\",\n 'Олесь',\n \"Мар'ян\",\n 'Костянтин',\n 'Ілля',\n 'Ольга',\n 'Євгенія',\n 'Гео',\n 'Георгій',\n 'Григорій',\n 'Суто',\n 'Людмила',\n \"В'ячеслав\",\n 'Галина',\n 'Василь',\n 'Григорій',\n 'Кирилл',\n 'Василь',\n 'Євген',\n 'Василь',\n 'Євген',\n 'Роксолана',\n 'Ольга',\n 'Ольга',\n 'Ольга',\n 'Ольга',\n 'Ольга',\n 'Григорій',\n 'Галина',\n 'Єгор',\n 'Ахтем',\n 'Євгеній',\n 'Остап',\n 'Альона',\n 'Євген',\n 'Галина',\n 'Єлизавета']"
     },
     "metadata": {},
     "output_type": "execute_result",
     "execution_count": 10
    }
   ],
   "source": [
    "genders=[d.get_gender(i) for i in engnames]\n",
    "names_genders=list(zip(names,genders))\n",
    "unknown=[i[0] for i in names_genders if i[1]==\"unknown\"]\n",
    "unknown"
   ],
   "metadata": {
    "collapsed": false,
    "pycharm": {
     "name": "#%%\n",
     "is_executing": false
    }
   }
  },
  {
   "cell_type": "markdown",
   "source": [
    "Specify undetected female names. Other undetected names will be marked as \"male\"."
   ],
   "metadata": {
    "collapsed": false
   }
  },
  {
   "cell_type": "code",
   "execution_count": 11,
   "outputs": [],
   "source": [
    "femalenames=[\"Ольга\",\"Людмила\",\"Мар'яна\",'Соломія', 'Єлізавета','Галина', \"Дар'я\",\n",
    "             'Євгенія','Роксолана','Альона','Єлизавета']\n",
    "names_genders=[(i[0],\"female\") if i[0] in femalenames \n",
    "               else (i[0],\"male\") if i[1]==\"unknown\" \n",
    "else (i[0],i[1]) for i in names_genders]\n",
    "correctgenders=[i[1] for i in names_genders]"
   ],
   "metadata": {
    "collapsed": false,
    "pycharm": {
     "name": "#%%\n",
     "is_executing": false
    }
   }
  },
  {
   "cell_type": "markdown",
   "source": [
    "Now we can see the percentage of male and female MPs."
   ],
   "metadata": {
    "collapsed": false
   }
  },
  {
   "cell_type": "code",
   "execution_count": 12,
   "outputs": [
    {
     "name": "stdout",
     "text": [
      "Total MPs: 423\nFemale MPs: 87 (20.56737588652482 %)\nMale MPs: 336 (79.43262411347519 %)\n"
     ],
     "output_type": "stream"
    }
   ],
   "source": [
    "print(f\"Total MPs: {len(correctgenders)}\")\n",
    "print(f\"Female MPs: {correctgenders.count('female')} ({(correctgenders.count('female')/len(correctgenders))*100} %)\")\n",
    "print(f\"Male MPs: {correctgenders.count('male')} ({(correctgenders.count('male')/len(correctgenders))*100} %)\")\n"
   ],
   "metadata": {
    "collapsed": false,
    "pycharm": {
     "name": "#%%\n",
     "is_executing": false
    }
   }
  }
 ],
 "metadata": {
  "kernelspec": {
   "display_name": "Python 3",
   "language": "python",
   "name": "python3"
  },
  "language_info": {
   "codemirror_mode": {
    "name": "ipython",
    "version": 2
   },
   "file_extension": ".py",
   "mimetype": "text/x-python",
   "name": "python",
   "nbconvert_exporter": "python",
   "pygments_lexer": "ipython2",
   "version": "2.7.6"
  },
  "pycharm": {
   "stem_cell": {
    "cell_type": "raw",
    "source": [],
    "metadata": {
     "collapsed": false
    }
   }
  }
 },
 "nbformat": 4,
 "nbformat_minor": 0
}
